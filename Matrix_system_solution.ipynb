{
 "cells": [
  {
   "cell_type": "markdown",
   "metadata": {
    "pycharm": {
     "name": "#%% md\n"
    }
   },
   "source": [
    "# Решение систем уравнений с использованием библиотеки numpy\n",
    "![](https://raw.githubusercontent.com/GlebMizin/Imagenes/master/mem.jpg)"
   ]
  },
  {
   "cell_type": "code",
   "execution_count": 88,
   "metadata": {
    "pycharm": {
     "name": "#%%\n"
    }
   },
   "outputs": [],
   "source": [
    "import numpy as np"
   ]
  },
  {
   "cell_type": "markdown",
   "metadata": {
    "pycharm": {
     "name": "#%% md\n"
    }
   },
   "source": [
    "## Решение матричным методом"
   ]
  },
  {
   "cell_type": "markdown",
   "metadata": {
    "pycharm": {
     "name": "#%% md\n"
    }
   },
   "source": [
    "Рассмотрим систему из 4 линейных уравнений с 4 неизвестными:\n",
    "$$\n",
    "\\begin{align}\n",
    "\\begin{cases}\n",
    "\\\\ A + C = 2\n",
    "\\\\ -A + B - 2C + D = -2\n",
    "\\\\ 4A + C - 2D = 0\n",
    "\\\\ -4A + 4B + D = 5\n",
    "\\end{cases}\n",
    "\\end{align}\n",
    "$$\n"
   ]
  },
  {
   "cell_type": "markdown",
   "metadata": {
    "pycharm": {
     "name": "#%% md\n"
    }
   },
   "source": [
    "Составим коэффициентов при неизвестных, матрицу неизвестных и матрицу свободных членов соответствующие заданному уравнению\n",
    "\n",
    "\n",
    "$$ M= \\begin{pmatrix} 1 & 0 & 1 & 0 \\\\ -1 & 1 & -2 & 1 \\\\ 4 & 0 & 1 & -2 \\\\ -4 & 4 & 0 & 1 \\end{pmatrix}$$\n",
    "$$ X = \\begin{pmatrix} A \\\\ B \\\\ C \\\\ D \\end{pmatrix}$$\n",
    "$$ V= \\begin{pmatrix} 2 \\\\ -2 \\\\ 0 \\\\ 5 \\end{pmatrix}$$"
   ]
  },
  {
   "cell_type": "markdown",
   "metadata": {
    "pycharm": {
     "name": "#%% md\n"
    }
   },
   "source": [
    "Запишем полученные матрицу коэффициентов при неизвестных и матрицу свободных членов в numpy массивы:"
   ]
  },
  {
   "cell_type": "code",
   "execution_count": 89,
   "metadata": {
    "pycharm": {
     "name": "#%%\n"
    }
   },
   "outputs": [],
   "source": [
    "M = np.matrix('1 0 1 0; -1 1 -2 1; 4 0 1 -2; -4 4 0 1')\n",
    "V = np.matrix ('2; -2; 0; 5')"
   ]
  },
  {
   "cell_type": "markdown",
   "metadata": {
    "pycharm": {
     "name": "#%% md\n"
    }
   },
   "source": [
    "Теперь необходимо проверить является ли матрица вырожденной (определитель равен 0) от этого будет зависеть сможем ли вообще использовать матричный метод для решения данного уравнения"
   ]
  },
  {
   "cell_type": "code",
   "execution_count": 90,
   "metadata": {
    "pycharm": {
     "name": "#%%\n"
    }
   },
   "outputs": [
    {
     "name": "stdout",
     "output_type": "stream",
     "text": [
      "24.999999999999996\n"
     ]
    }
   ],
   "source": [
    "opr = np.linalg.det(M)\n",
    "print(opr)"
   ]
  },
  {
   "cell_type": "markdown",
   "metadata": {
    "pycharm": {
     "name": "#%% md\n"
    }
   },
   "source": [
    "Определитель не равен 0, а следовательно можно использовать матричный метод решения"
   ]
  },
  {
   "cell_type": "markdown",
   "metadata": {
    "pycharm": {
     "name": "#%% md\n"
    }
   },
   "source": [
    "Найдем матрицу, обратную матрице коэффициентов при неизвестных"
   ]
  },
  {
   "cell_type": "code",
   "execution_count": 91,
   "metadata": {
    "pycharm": {
     "name": "#%%\n"
    }
   },
   "outputs": [
    {
     "name": "stdout",
     "output_type": "stream",
     "text": [
      "[[ 0.52  0.32  0.12 -0.08]\n",
      " [ 0.2   0.2   0.2   0.2 ]\n",
      " [ 0.48 -0.32 -0.12  0.08]\n",
      " [ 1.28  0.48 -0.32 -0.12]]\n"
     ]
    }
   ],
   "source": [
    "m_inv = np.linalg.inv(M)\n",
    "print(m_inv)"
   ]
  },
  {
   "cell_type": "markdown",
   "metadata": {
    "pycharm": {
     "name": "#%% md\n"
    }
   },
   "source": [
    "Найдем матрицу не известных по формуле $ X = M^{-1} * V$"
   ]
  },
  {
   "cell_type": "code",
   "execution_count": 92,
   "metadata": {
    "pycharm": {
     "name": "#%%\n"
    }
   },
   "outputs": [
    {
     "data": {
      "text/plain": "matrix([[0.],\n        [1.],\n        [2.],\n        [1.]])"
     },
     "execution_count": 92,
     "metadata": {},
     "output_type": "execute_result"
    }
   ],
   "source": [
    "m_inv.dot(V)"
   ]
  },
  {
   "cell_type": "markdown",
   "metadata": {
    "pycharm": {
     "name": "#%% md\n"
    }
   },
   "source": [
    "Из этого сделует что: $$ A = 0 \\\\ B = 1 \\\\ C = 2 \\\\  D = 1$$"
   ]
  },
  {
   "cell_type": "markdown",
   "metadata": {
    "pycharm": {
     "name": "#%% md\n"
    }
   },
   "source": [
    "В библиотеке numpy для решения систем уравнений матричным методом используется функция solve из linalg, проверим правильность решения с помощью этой функции"
   ]
  },
  {
   "cell_type": "code",
   "execution_count": 93,
   "metadata": {
    "pycharm": {
     "name": "#%%\n"
    }
   },
   "outputs": [
    {
     "data": {
      "text/plain": "matrix([[0.],\n        [1.],\n        [2.],\n        [1.]])"
     },
     "execution_count": 93,
     "metadata": {},
     "output_type": "execute_result"
    }
   ],
   "source": [
    "np.linalg.solve(M,V)"
   ]
  },
  {
   "cell_type": "markdown",
   "metadata": {
    "pycharm": {
     "name": "#%% md\n"
    }
   },
   "source": [
    "Значения совпадают"
   ]
  },
  {
   "cell_type": "markdown",
   "metadata": {
    "pycharm": {
     "name": "#%% md\n"
    }
   },
   "source": [
    "## Решение методом Крамера"
   ]
  },
  {
   "cell_type": "markdown",
   "metadata": {
    "pycharm": {
     "name": "#%% md\n"
    }
   },
   "source": [
    "Решим выше указанное уравнение методом Крамера"
   ]
  },
  {
   "cell_type": "markdown",
   "metadata": {
    "pycharm": {
     "name": "#%% md\n"
    }
   },
   "source": [
    "Для начала объявим необходимые матрицы, а именно матрицу коэффициентов при неизвестных, матрицу свободных членов и матрицу которая будет возвращать первоначальные значения изменённому столбцу. Так же зададим список для определителей полученных в ходе подстановки значений из матрицы свободных членов в матрицу коэффициентов при неизвестных."
   ]
  },
  {
   "cell_type": "code",
   "execution_count": 94,
   "metadata": {
    "pycharm": {
     "name": "#%%\n"
    }
   },
   "outputs": [],
   "source": [
    "M = np.matrix('1 0 1 0; -1 1 -2 1; 4 0 1 -2; -4 4 0 1')\n",
    "V = np.matrix ('2; -2; 0; 5')\n",
    "check_matrix = np.matrix('0;0;0;0')\n",
    "dets = []"
   ]
  },
  {
   "cell_type": "markdown",
   "metadata": {
    "pycharm": {
     "name": "#%% md\n"
    }
   },
   "source": [
    "Посчитаем изначальный определитель матрицы коэффициентов при неизвестных, его так же называют главным определителем"
   ]
  },
  {
   "cell_type": "code",
   "execution_count": 95,
   "metadata": {
    "pycharm": {
     "name": "#%%\n"
    }
   },
   "outputs": [],
   "source": [
    "main_det = np.linalg.det(M)"
   ]
  },
  {
   "cell_type": "markdown",
   "metadata": {
    "pycharm": {
     "name": "#%% md\n"
    }
   },
   "source": [
    "Для решения системы уравнений методом крамера нам необходимо заменять каждый столбец изначальной матрицы на матрицу свободных членов в соответствии с формулой: $△x = \\begin{pmatrix} s_1 b_1 \\\\ s_2 b_2 \\end{pmatrix}$ и $△y = \\begin{pmatrix} a_1 s_1 \\\\ a_2 s_2 \\end{pmatrix}$ и т.д\n",
    "\n",
    "Для этого создадим цикл, который заменяет каждый столбец поочерёдно, считает определитель для данной матрицы, записывает его в список и возвращает матрицу в изначальный вид"
   ]
  },
  {
   "cell_type": "code",
   "execution_count": 96,
   "metadata": {
    "pycharm": {
     "name": "#%%\n"
    }
   },
   "outputs": [],
   "source": [
    "i = 0\n",
    "while i < len(M):\n",
    "    check_matrix[:, 0] = M[:, i]\n",
    "    M[:, i] = V[:, 0]\n",
    "    temp_det = np.linalg.det(M)\n",
    "    dets.append(temp_det)\n",
    "    M[:, i] = check_matrix[:, 0]\n",
    "    i += 1\n"
   ]
  },
  {
   "cell_type": "markdown",
   "metadata": {
    "pycharm": {
     "name": "#%% md\n"
    }
   },
   "source": [
    "Теперь осталось только сделать из полученного списка numpy массив и разделить каждый элемент этого массива на главный определитель"
   ]
  },
  {
   "cell_type": "code",
   "execution_count": 97,
   "metadata": {
    "pycharm": {
     "name": "#%%\n"
    }
   },
   "outputs": [
    {
     "name": "stdout",
     "output_type": "stream",
     "text": [
      "[0. 1. 2. 1.]\n"
     ]
    }
   ],
   "source": [
    "dets = np.array(dets)\n",
    "result = dets // main_det\n",
    "print(result)"
   ]
  },
  {
   "cell_type": "markdown",
   "metadata": {
    "pycharm": {
     "name": "#%% md\n"
    }
   },
   "source": [
    "Полученная матрица сходится с результатами предыдущего метода, из чего можно сделать вывод, что алгоритм работает корректно."
   ]
  }
 ],
 "metadata": {
  "kernelspec": {
   "display_name": "Python 3 (ipykernel)",
   "language": "python",
   "name": "python3"
  },
  "language_info": {
   "codemirror_mode": {
    "name": "ipython",
    "version": 3
   },
   "file_extension": ".py",
   "mimetype": "text/x-python",
   "name": "python",
   "nbconvert_exporter": "python",
   "pygments_lexer": "ipython3",
   "version": "3.11.2"
  }
 },
 "nbformat": 4,
 "nbformat_minor": 1
}